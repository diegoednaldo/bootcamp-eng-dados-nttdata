{
  "nbformat": 4,
  "nbformat_minor": 0,
  "metadata": {
    "colab": {
      "provenance": [],
      "authorship_tag": "ABX9TyMG0KQh07ZBKuYH/OX6C37Y",
      "include_colab_link": true
    },
    "kernelspec": {
      "name": "python3",
      "display_name": "Python 3"
    },
    "language_info": {
      "name": "python"
    }
  },
  "cells": [
    {
      "cell_type": "markdown",
      "metadata": {
        "id": "view-in-github",
        "colab_type": "text"
      },
      "source": [
        "<a href=\"https://colab.research.google.com/github/diegoednaldo/bootcamp-eng-dados-nttdata/blob/main/Desafio_Criando_um_Sistema_Banc%C3%A1rio_com_Python.ipynb\" target=\"_parent\"><img src=\"https://colab.research.google.com/assets/colab-badge.svg\" alt=\"Open In Colab\"/></a>"
      ]
    },
    {
      "cell_type": "markdown",
      "source": [
        "Desafio Geral\n",
        "\n",
        "Criar um sistema bancário com as operações: depositar, sacar e visualizar extrato"
      ],
      "metadata": {
        "id": "ld1jyDD4NBIY"
      }
    },
    {
      "cell_type": "markdown",
      "source": [
        "Desafio\n",
        "\n",
        "Fomos contratados por um grande banco para desenvolver o seu novo sistema. Esse banco deseja modernizar suas operações e para isso escolheu a linguagem Python. Para a primeira versão do sistema devemos implementar apenas 3 operações: depósito, saque e extrato."
      ],
      "metadata": {
        "id": "0M_UETg9N68M"
      }
    },
    {
      "cell_type": "markdown",
      "source": [
        "Operação de depósito\n",
        "\n",
        "Deve ser possível depositar valores positivos para a minha conta bancária. A v1 do projeto trabalha apenas com 1 usuário, dessa forma não precisamos nos preocupar em identificar qual é o número da agência e conta bancária. Todos os depósitos devem ser armazenados em uma variável e exibidos na operação de extrato."
      ],
      "metadata": {
        "id": "Q4QNwWjFQb59"
      }
    },
    {
      "cell_type": "markdown",
      "source": [
        "Operação de saque\n",
        "\n",
        "O sistema deve permitir realizar 3 saques diários com limite máximo de R$ 500,00 por saque. Caso o usuário não tenha saldo em conta, o sistema deve exibir uma mensagem informando que não será possível sacar o dinheiro por falta de saldo. Todos os saques devem ser armazenados em uma variável e exibidos na operação de extrato."
      ],
      "metadata": {
        "id": "4gqQO1mUQpOn"
      }
    },
    {
      "cell_type": "markdown",
      "source": [
        "Operação de extrato\n",
        "\n",
        "Essa operação deve listar todos os depósitos e saques\n",
        "realizados na conta. No fim da listagem deve ser exibido o\n",
        "saldo atual da conta. Se o extrato estiver em branco, exibir a\n",
        "mensagem: Não foram realizadas movimentações.\n",
        "Os valores devem ser exibidos utilizando o formato RS xxx.xx,\n",
        "\n",
        "exemplo:\n",
        "\n",
        "1500.45 = R$ 1500.45\n"
      ],
      "metadata": {
        "id": "s5AOL0nQRkDt"
      }
    },
    {
      "cell_type": "code",
      "execution_count": 20,
      "metadata": {
        "id": "VK9yEJg4Mxrp"
      },
      "outputs": [],
      "source": [
        "class Banco:\n",
        "    def __init__(self):\n",
        "        self.saldo = 0.0\n",
        "        self.deposito_list = []\n",
        "        self.saque_list = []\n",
        "        self.limite_saque_diario = 3\n",
        "        self.valor_limite_saque = 500.0\n",
        "\n",
        "    def depositar(self, valor):\n",
        "        if valor > 0:\n",
        "            self.saldo += valor\n",
        "            self.deposito_list.append(valor)\n",
        "            print(f\"Depósito de R$ {valor:.2f} realizado com sucesso.\")\n",
        "        else:\n",
        "            print(\"Valor de depósito inválido. Por favor, insira um valor positivo.\")\n",
        "\n",
        "    def sacar(self, valor):\n",
        "        if valor > self.saldo:\n",
        "            print(\"Saldo insuficiente para realizar o saque.\")\n",
        "        elif len(self.saque_list) >= self.limite_saque_diario:\n",
        "            print(\"Limite de saques diários atingido.\")\n",
        "        elif valor > self.valor_limite_saque:\n",
        "            print(f\"O valor do saque excede o limite permitido de R$ {self.valor_limite_saque:.2f}.\")\n",
        "        elif valor > 0:\n",
        "            self.saldo -= valor\n",
        "            self.saque_list.append(valor)\n",
        "            print(f\"Saque de R$ {valor:.2f} realizado com sucesso.\")\n",
        "        else:\n",
        "            print(\"Valor de saque inválido. Por favor, insira um valor positivo.\")\n",
        "\n",
        "    def extrato(self):\n",
        "        print(\"\\nExtrato:\")\n",
        "        if not self.deposito_list and not self.saque_list:\n",
        "            print(\"Não foram realizadas movimentações.\")\n",
        "        else:\n",
        "            for valor in self.deposito_list:\n",
        "                print(f\"Depósito: R$ {valor:.2f}\")\n",
        "            for valor in self.saque_list:\n",
        "                print(f\"Saque: R$ {valor:.2f}\")\n",
        "            print(f\"Saldo atual: R$ {self.saldo:.2f}\")"
      ]
    },
    {
      "cell_type": "code",
      "source": [
        "# Uso do sistema\n",
        "banco = Banco()"
      ],
      "metadata": {
        "id": "cbsBbQa2NRJF"
      },
      "execution_count": 21,
      "outputs": []
    },
    {
      "cell_type": "code",
      "source": [
        "# Realizando algumas operações\n",
        "banco.depositar(1000.0)\n",
        "banco.sacar(200.0)\n",
        "banco.sacar(500.0)\n",
        "banco.sacar(50.0)\n",
        "banco.depositar(300.0)\n",
        "# Teste da lógica (Este saque não pode ser permitido, pois excede o limite diário)\n",
        "banco.sacar(400.0)\n",
        "banco.extrato()"
      ],
      "metadata": {
        "colab": {
          "base_uri": "https://localhost:8080/"
        },
        "id": "Zb456OrpNUFF",
        "outputId": "4a9c1bf0-b503-4404-c5e3-7d3c2d623e8c"
      },
      "execution_count": 22,
      "outputs": [
        {
          "output_type": "stream",
          "name": "stdout",
          "text": [
            "Depósito de R$ 1000.00 realizado com sucesso.\n",
            "Saque de R$ 200.00 realizado com sucesso.\n",
            "Saque de R$ 500.00 realizado com sucesso.\n",
            "Saque de R$ 50.00 realizado com sucesso.\n",
            "Depósito de R$ 300.00 realizado com sucesso.\n",
            "Limite de saques diários atingido.\n",
            "\n",
            "Extrato:\n",
            "Depósito: R$ 1000.00\n",
            "Depósito: R$ 300.00\n",
            "Saque: R$ 200.00\n",
            "Saque: R$ 500.00\n",
            "Saque: R$ 50.00\n",
            "Saldo atual: R$ 550.00\n"
          ]
        }
      ]
    }
  ]
}
